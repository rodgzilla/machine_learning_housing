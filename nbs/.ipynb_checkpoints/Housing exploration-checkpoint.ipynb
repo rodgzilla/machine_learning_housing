{
 "cells": [
  {
   "cell_type": "code",
   "execution_count": null,
   "metadata": {
    "collapsed": true
   },
   "outputs": [],
   "source": [
    "import pandas as pd\n",
    "from pandas import Series,DataFrame\n",
    "from collections import Counter\n",
    "\n",
    "import seaborn as sns\n",
    "import matplotlib.pyplot as plt\n",
    "# from mpl_toolkits.mplot3d import Axes3D\n",
    "%matplotlib inline\n",
    "\n",
    "sns.set(style=\"white\", palette=\"pastel\", color_codes=True)\n",
    "\n",
    "import numpy as np\n",
    "\n",
    "random_state = 142857"
   ]
  },
  {
   "cell_type": "code",
   "execution_count": null,
   "metadata": {
    "collapsed": true
   },
   "outputs": [],
   "source": [
    "df = pd.read_csv('../leboncoin-properties-stats/saleproperties.csv')"
   ]
  },
  {
   "cell_type": "code",
   "execution_count": null,
   "metadata": {
    "collapsed": false
   },
   "outputs": [],
   "source": [
    "df.describe()"
   ]
  },
  {
   "cell_type": "code",
   "execution_count": null,
   "metadata": {
    "collapsed": false,
    "scrolled": true
   },
   "outputs": [],
   "source": [
    "df[:2].transpose()"
   ]
  },
  {
   "cell_type": "markdown",
   "metadata": {},
   "source": [
    "We drop the columns that we will not use for the regression."
   ]
  },
  {
   "cell_type": "code",
   "execution_count": null,
   "metadata": {
    "collapsed": false
   },
   "outputs": [],
   "source": [
    "toDrop = ['regionCode',\n",
    "          'departementCode',\n",
    "          'postalCode',\n",
    "          'title', #just for now\n",
    "          'publishDate',\n",
    "          'lastUpdateDate',\n",
    "          'minPrice',\n",
    "          'maxPrice',\n",
    "          'minSurface',\n",
    "          'maxSurface',\n",
    "          'minNbRooms',\n",
    "          'maxNbRooms'\n",
    "         ]\n",
    "df = df.drop(toDrop, axis = 1)\n",
    "\n",
    "df[:2].transpose()"
   ]
  },
  {
   "cell_type": "markdown",
   "metadata": {},
   "source": [
    "We now remove the outliers."
   ]
  },
  {
   "cell_type": "code",
   "execution_count": null,
   "metadata": {
    "collapsed": true
   },
   "outputs": [],
   "source": [
    "df = df[df['price']   >= 35000                ]\n",
    "df = df[df['price']   <= 700000               ]\n",
    "df = df[df['surface'] >= 10                   ]\n",
    "df = df[df['surface'] <= 400                  ]\n",
    "df = df[df['nbRooms'] <= 10                   ]\n",
    "df = df[df['electricityConsumption'].notnull()]\n",
    "df = df[df['gasConsumption'].notnull()        ]\n",
    "df = df[df['region'].notnull()                ]\n",
    "df = df[df['departement'].notnull()           ]"
   ]
  },
  {
   "cell_type": "code",
   "execution_count": null,
   "metadata": {
    "collapsed": false
   },
   "outputs": [],
   "source": [
    "fig, ax = plt.subplots(4, 1, figsize = (15, 15))\n",
    "\n",
    "ax[0].hist(df['price'], bins = 100)\n",
    "ax[0].set_xlabel('Prices')\n",
    "\n",
    "ax[1].hist(df['surface'], bins = 50)\n",
    "ax[1].set_xlabel('Surfaces')\n",
    "\n",
    "ax[2].hist(df['nbRooms'], bins = 10)\n",
    "ax[2].set_xlabel('Room numbers')\n",
    "\n",
    "ax[3].hist(df['nbPhotos'])\n",
    "ax[3].set_xlabel('Photo numbers')"
   ]
  },
  {
   "cell_type": "code",
   "execution_count": null,
   "metadata": {
    "collapsed": false
   },
   "outputs": [],
   "source": [
    "df.head()"
   ]
  },
  {
   "cell_type": "code",
   "execution_count": null,
   "metadata": {
    "collapsed": false
   },
   "outputs": [],
   "source": [
    "region_dummies         = pd.get_dummies(df['region'])\n",
    "region_dummies.columns = ['region_%s' % name for name in region_dummies.columns]\n",
    "df = df.join(region_dummies)\n",
    "df.drop(['region'], axis = 1, inplace = True)"
   ]
  },
  {
   "cell_type": "code",
   "execution_count": null,
   "metadata": {
    "collapsed": false
   },
   "outputs": [],
   "source": [
    "departement_dummies = pd.get_dummies(df['departement'])\n",
    "departement_dummies.columns = ['departement_%s' % name for name in departement_dummies.columns]\n",
    "df = df.join(departement_dummies)\n",
    "df.drop(['departement'], axis = 1, inplace = True)"
   ]
  },
  {
   "cell_type": "code",
   "execution_count": null,
   "metadata": {
    "collapsed": true
   },
   "outputs": [],
   "source": [
    "df.head().transpose()"
   ]
  },
  {
   "cell_type": "code",
   "execution_count": null,
   "metadata": {
    "collapsed": true
   },
   "outputs": [],
   "source": []
  }
 ],
 "metadata": {
  "anaconda-cloud": {},
  "kernelspec": {
   "display_name": "Python [conda root]",
   "language": "python",
   "name": "conda-root-py"
  },
  "language_info": {
   "codemirror_mode": {
    "name": "ipython",
    "version": 3
   },
   "file_extension": ".py",
   "mimetype": "text/x-python",
   "name": "python",
   "nbconvert_exporter": "python",
   "pygments_lexer": "ipython3",
   "version": "3.5.2"
  }
 },
 "nbformat": 4,
 "nbformat_minor": 1
}
